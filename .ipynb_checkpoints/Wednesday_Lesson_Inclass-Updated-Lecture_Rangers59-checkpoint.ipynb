{
 "cells": [
  {
   "cell_type": "markdown",
   "metadata": {},
   "source": [
    "# Data Collections 2 (Dictionaries, Sets) and Importing Modules"
   ]
  },
  {
   "cell_type": "markdown",
   "metadata": {},
   "source": [
    "## Tasks Today:\n",
    "\n",
    "1) Dictionary <br>\n",
    " &nbsp;&nbsp;&nbsp;&nbsp; a) Declaring (key, value) <br>\n",
    " &nbsp;&nbsp;&nbsp;&nbsp; b) Accessing Values <br>\n",
    " &nbsp;&nbsp;&nbsp;&nbsp; ------ Exercise #1 - Print the eye color of each person in a double nested dict <br>\n",
    " &nbsp;&nbsp;&nbsp;&nbsp; c) Adding New Pairs <br>\n",
    " &nbsp;&nbsp;&nbsp;&nbsp; d) Modifying Values <br>\n",
    " &nbsp;&nbsp;&nbsp;&nbsp; e) Removing Key, Value Pairs <br>\n",
    " &nbsp;&nbsp;&nbsp;&nbsp; f) Looping a Dictionary <br>\n",
    " &nbsp;&nbsp;&nbsp;&nbsp; g) Looping Only Keys <br>\n",
    " &nbsp;&nbsp;&nbsp;&nbsp; h) Looping Only Values <br>\n",
    " &nbsp;&nbsp;&nbsp;&nbsp; ------ Exercise #2 - Create a Function that Prints All Key Value Pairs within a print .format()  <br>\n",
    " &nbsp;&nbsp;&nbsp;&nbsp; i) sorted() <br>\n",
    " &nbsp;&nbsp;&nbsp;&nbsp; j) Lists with Dictionaries <br>\n",
    " &nbsp;&nbsp;&nbsp;&nbsp; k) Dictionaries with Lists <br>\n",
    " &nbsp;&nbsp;&nbsp;&nbsp; l) Dictionaries with Dictionaries <br>\n",
    " &nbsp;&nbsp;&nbsp;&nbsp; ------ Exercise #3 - Write a Function that asks someone's name and address, and then stores that into a dictionary, which prints all names and addresses after they're done putting information in...  <br>\n",
    "2) Dictionaries vs. Lists (over time)<br>\n",
    "3) Set <br>\n",
    " &nbsp;&nbsp;&nbsp;&nbsp; a) Declaring <br>\n",
    " &nbsp;&nbsp;&nbsp;&nbsp; b) .add() <br>\n",
    " &nbsp;&nbsp;&nbsp;&nbsp; c) .remove() <br>\n",
    " &nbsp;&nbsp;&nbsp;&nbsp; d) .union() <br>\n",
    " &nbsp;&nbsp;&nbsp;&nbsp; e) .intersection() <br>\n",
    " &nbsp;&nbsp;&nbsp;&nbsp; f) .difference() <br>\n",
    " &nbsp;&nbsp;&nbsp;&nbsp; g) Frozen Set <br>\n",
    "4) Modules <br>\n",
    " &nbsp;&nbsp;&nbsp;&nbsp; a) Importing Entire Modules <br>\n",
    " &nbsp;&nbsp;&nbsp;&nbsp; b) Importing Methods Only <br>\n",
    " &nbsp;&nbsp;&nbsp;&nbsp; c) Using the 'as' Keyword <br>\n",
    " &nbsp;&nbsp;&nbsp;&nbsp; d) Creating a Module <br>\n",
    "5) Exercises <br>\n",
    " &nbsp;&nbsp;&nbsp;&nbsp; a) Build a Shopping Cart <br>\n",
    " &nbsp;&nbsp;&nbsp;&nbsp; b) Create Your Own Module <br>"
   ]
  },
  {
   "cell_type": "markdown",
   "metadata": {},
   "source": [
    "## Dictionary <br>\n",
    "<p>A collection of data with 'key:value' pairs. Dictionaries are ordered as of Python 3.6</p>"
   ]
  },
  {
   "cell_type": "markdown",
   "metadata": {},
   "source": [
    "##### Declaring (key, value)"
   ]
  },
  {
   "cell_type": "code",
   "execution_count": null,
   "metadata": {},
   "outputs": [],
   "source": [
    "profile:\n",
    "    \n",
    "First Name:Steven\n",
    "Last Name:Kim\n",
    "Email:systeven.kim@gmail.com\n",
    "Age:32\n",
    "Weight:175"
   ]
  },
  {
   "cell_type": "code",
   "execution_count": 3,
   "metadata": {},
   "outputs": [
    {
     "name": "stdout",
     "output_type": "stream",
     "text": [
      "<class 'dict'>\n"
     ]
    }
   ],
   "source": [
    "d = {} # Preferred method\n",
    "print(type(d))"
   ]
  },
  {
   "cell_type": "markdown",
   "metadata": {},
   "source": [
    "##### Accessing Values"
   ]
  },
  {
   "cell_type": "code",
   "execution_count": 7,
   "metadata": {},
   "outputs": [
    {
     "ename": "SyntaxError",
     "evalue": "invalid syntax (290120263.py, line 3)",
     "output_type": "error",
     "traceback": [
      "\u001b[1;36m  Input \u001b[1;32mIn [7]\u001b[1;36m\u001b[0m\n\u001b[1;33m    'name':'steven'\u001b[0m\n\u001b[1;37m          ^\u001b[0m\n\u001b[1;31mSyntaxError\u001b[0m\u001b[1;31m:\u001b[0m invalid syntax\n"
     ]
    }
   ],
   "source": [
    "d1 = {\n",
    "    \"key\":\"value\"\n",
    "    'name':'steven'\n",
    "    123:'integer'\n",
    "}\n",
    "print(d1)\n",
    "\n",
    "d = dict(key=\"value\", name=\"steven\")\n",
    "print(d)\n",
    "\n",
    "#keys have to be hashable. \n",
    "#values can be anything"
   ]
  },
  {
   "cell_type": "code",
   "execution_count": 21,
   "metadata": {},
   "outputs": [
    {
     "name": "stdout",
     "output_type": "stream",
     "text": [
      "Dylan\n",
      "<class 'str'>\n",
      "Dylan Smith\n"
     ]
    }
   ],
   "source": [
    "ds={\n",
    "    'first_name': 'Dylan',\n",
    "    'last_name': 'Smith',\n",
    "    'no_of_showers_this_year':3.5,\n",
    "    'taste_in_music':'Bad',\n",
    "    'states_seen':45\n",
    "}\n",
    "\n",
    "print(ds['first_name'])\n",
    "print(type(ds['first_name']))\n",
    "\n",
    "print(f\"{ds['first_name']} {ds['last_name']}\")"
   ]
  },
  {
   "cell_type": "markdown",
   "metadata": {},
   "source": [
    "## In-Class Exercise #1 - Print a formatted statement from the dictionary below <br>\n",
    "<p>The output should be '2018 Chevrolet Silverado'</p>"
   ]
  },
  {
   "cell_type": "code",
   "execution_count": 27,
   "metadata": {},
   "outputs": [
    {
     "name": "stdout",
     "output_type": "stream",
     "text": [
      "I have never driven a 2018 Chevrolet Silverado.\n"
     ]
    }
   ],
   "source": [
    "# use the dict below\n",
    "truck = {\n",
    "    'year': 2018,\n",
    "    'make': 'Chevrolet',\n",
    "    'model': 'Silverado'\n",
    "}\n",
    "\n",
    "print(f\"I have never driven a {truck['year']} {truck['make']} {truck['model']}.\")"
   ]
  },
  {
   "cell_type": "code",
   "execution_count": 36,
   "metadata": {},
   "outputs": [
    {
     "name": "stdout",
     "output_type": "stream",
     "text": [
      "29\n"
     ]
    }
   ],
   "source": [
    "# .get\n",
    "\n",
    "ds={\n",
    "    'first_name': 'Dylan',\n",
    "    'last_name': 'Smith',\n",
    "    'no_of_showers_this_year':3.5,\n",
    "    'taste_in_music':'Bad',\n",
    "    'states_seen':45,\n",
    "    'age':29,\n",
    "}\n",
    "\n",
    "# ds['age'] error\n",
    "# print(ds.get('age'))\n",
    "print(ds.get('age', 21))\n"
   ]
  },
  {
   "cell_type": "markdown",
   "metadata": {},
   "source": [
    "##### Adding New Pairs"
   ]
  },
  {
   "cell_type": "code",
   "execution_count": 37,
   "metadata": {},
   "outputs": [
    {
     "name": "stdout",
     "output_type": "stream",
     "text": [
      "{'first_name': 'Dylan', 'last_name': 'Smith', 'no_of_showers_this_year': 3.5, 'taste_in_music': 'Bad', 'states_seen': 45, 'age': 40}\n"
     ]
    }
   ],
   "source": [
    "ds={\n",
    "    'first_name': 'Dylan',\n",
    "    'last_name': 'Smith',\n",
    "    'no_of_showers_this_year':3.5,\n",
    "    'taste_in_music':'Bad',\n",
    "    'states_seen':45,\n",
    "    'age':29\n",
    "}\n",
    "\n",
    "ds['age']=40\n",
    "\n",
    "print(ds)"
   ]
  },
  {
   "cell_type": "code",
   "execution_count": 39,
   "metadata": {},
   "outputs": [
    {
     "name": "stdout",
     "output_type": "stream",
     "text": [
      "{'first_name': 'Dylan', 'last_name': 'Smith', 'no_of_showers_this_year': 3.5, 'taste_in_music': 'Bad', 'states_seen': 45, 'age': 40, 'weights': 250}\n"
     ]
    }
   ],
   "source": [
    "my_new_key = 'weight'\n",
    "\n",
    "ds[my_new_key+'s']=250\n",
    "print(ds)"
   ]
  },
  {
   "cell_type": "code",
   "execution_count": 42,
   "metadata": {},
   "outputs": [
    {
     "name": "stdout",
     "output_type": "stream",
     "text": [
      "{'first_name': 'Dylan', 'last_name': 'Smith', 'no_of_showers_this_year': 3.5, 'taste_in_music': 'Bad', 'states_seen': 45, 'age': 30}\n"
     ]
    }
   ],
   "source": [
    "ds={\n",
    "    'first_name': 'Dylan',\n",
    "    'last_name': 'Smith',\n",
    "    'no_of_showers_this_year':3.5,\n",
    "    'taste_in_music':'Bad',\n",
    "    'states_seen':45,\n",
    "    'age':29\n",
    "}\n",
    "\n",
    "ds.update({'age':30})\n",
    "print(ds)"
   ]
  },
  {
   "cell_type": "markdown",
   "metadata": {},
   "source": [
    "##### Modifying Values"
   ]
  },
  {
   "cell_type": "code",
   "execution_count": 44,
   "metadata": {},
   "outputs": [
    {
     "name": "stdout",
     "output_type": "stream",
     "text": [
      "{'first_name': 'Dylan', 'last_name': 'Smith', 'no_of_showers_this_year': 4.5, 'taste_in_music': 'Bad', 'states_seen': 45, 'age': 29}\n"
     ]
    }
   ],
   "source": [
    "ds={\n",
    "    'first_name': 'Dylan',\n",
    "    'last_name': 'Smith',\n",
    "    'no_of_showers_this_year':3.5,\n",
    "    'taste_in_music':'Bad',\n",
    "    'states_seen':45,\n",
    "    'age':29\n",
    "}\n",
    "\n",
    "ds['no_of_showers_this_year']=4.5\n",
    "print(ds)"
   ]
  },
  {
   "cell_type": "code",
   "execution_count": 45,
   "metadata": {},
   "outputs": [
    {
     "data": {
      "text/plain": [
       "{'first_name': 'Dylan',\n",
       " 'last_name': 'Smith',\n",
       " 'no_of_showers_this_year': 3.5,\n",
       " 'taste_in_music': 'Bad',\n",
       " 'states_seen': 45,\n",
       " 'age': 29}"
      ]
     },
     "execution_count": 45,
     "metadata": {},
     "output_type": "execute_result"
    }
   ],
   "source": [
    "ds={\n",
    "    'first_name': 'Dylan',\n",
    "    'last_name': 'Smith',\n",
    "    'no_of_showers_this_year':3.5,\n",
    "    'taste_in_music':'Bad',\n",
    "    'states_seen':45,\n",
    "    'age':29\n",
    "}\n",
    "\n",
    "{**ds}"
   ]
  },
  {
   "cell_type": "markdown",
   "metadata": {},
   "source": [
    "##### Removing Key, Value Pairs"
   ]
  },
  {
   "cell_type": "code",
   "execution_count": 46,
   "metadata": {},
   "outputs": [
    {
     "name": "stdout",
     "output_type": "stream",
     "text": [
      "{'first_name': 'Dylan', 'last_name': 'Smith', 'taste_in_music': 'Bad', 'states_seen': 45, 'age': 29}\n"
     ]
    }
   ],
   "source": [
    "ds={\n",
    "    'first_name': 'Dylan',\n",
    "    'last_name': 'Smith',\n",
    "    'no_of_showers_this_year':3.5,\n",
    "    'taste_in_music':'Bad',\n",
    "    'states_seen':45,\n",
    "    'age':29\n",
    "}\n",
    "\n",
    "del ds['no_of_showers_this_year']\n",
    "print(ds)"
   ]
  },
  {
   "cell_type": "markdown",
   "metadata": {},
   "source": [
    "##### Looping a Dictionary"
   ]
  },
  {
   "cell_type": "code",
   "execution_count": 52,
   "metadata": {},
   "outputs": [
    {
     "name": "stdout",
     "output_type": "stream",
     "text": [
      "first_name\n",
      "Dylan\n",
      "last_name\n",
      "Smith\n",
      "taste_in_music\n",
      "Bad\n",
      "states_seen\n",
      "45\n",
      "age\n",
      "29\n"
     ]
    }
   ],
   "source": [
    "# best method\n",
    "for key in ds:\n",
    "    print(key)\n",
    "    print(ds[key])"
   ]
  },
  {
   "cell_type": "markdown",
   "metadata": {},
   "source": [
    "##### Looping Only Keys"
   ]
  },
  {
   "cell_type": "code",
   "execution_count": null,
   "metadata": {},
   "outputs": [],
   "source": [
    "# .keys()\n",
    "\n"
   ]
  },
  {
   "cell_type": "markdown",
   "metadata": {},
   "source": [
    "##### Looping Only Values"
   ]
  },
  {
   "cell_type": "code",
   "execution_count": 54,
   "metadata": {},
   "outputs": [
    {
     "name": "stdout",
     "output_type": "stream",
     "text": [
      "dict_values(['Dylan', 'Smith', 'Bad', 45, 29])\n",
      "Dylan\n",
      "Smith\n",
      "Bad\n",
      "45\n",
      "29\n"
     ]
    }
   ],
   "source": [
    "# .values()\n",
    "\n",
    "print(ds.values())\n",
    "for value in ds.values():\n",
    "    print(value)"
   ]
  },
  {
   "cell_type": "code",
   "execution_count": 61,
   "metadata": {},
   "outputs": [
    {
     "name": "stdout",
     "output_type": "stream",
     "text": [
      "dict_items([('first_name', 'Dylan'), ('last_name', 'Smith'), ('taste_in_music', 'Bad'), ('states_seen', 45), ('age', 29)])\n",
      "first_name Dylan\n",
      "last_name Smith\n",
      "taste_in_music Bad\n",
      "states_seen 45\n",
      "age 29\n"
     ]
    }
   ],
   "source": [
    "print(ds.items())\n",
    "\n",
    "for key, value in ds.items():\n",
    "    print(key, value)"
   ]
  },
  {
   "cell_type": "code",
   "execution_count": 60,
   "metadata": {},
   "outputs": [
    {
     "name": "stdout",
     "output_type": "stream",
     "text": [
      "[(0, 'a'), (1, 'b'), (2, 'c'), (3, 'd')]\n",
      "0 a\n",
      "1 b\n",
      "2 c\n",
      "3 d\n"
     ]
    }
   ],
   "source": [
    "ml = ['a', 'b', 'c', 'd']\n",
    "print(list(enumerate(ml)))\n",
    "for index, value in enumerate(ml):\n",
    "    print(index, value)"
   ]
  },
  {
   "cell_type": "code",
   "execution_count": null,
   "metadata": {},
   "outputs": [],
   "source": []
  },
  {
   "cell_type": "markdown",
   "metadata": {},
   "source": [
    "## In-Class Exercise #2 - Create a Function that Prints All Key Value Pairs within a print .format() <br>\n",
    "<p><b>Output should be:</b><br>\n",
    "Max has blue eyes<br>\n",
    "Lilly has brown eyes<br>\n",
    "Barney has blue eyes<br>\n",
    "etc.\n",
    "</p>"
   ]
  },
  {
   "cell_type": "code",
   "execution_count": 70,
   "metadata": {},
   "outputs": [
    {
     "name": "stdout",
     "output_type": "stream",
     "text": [
      "dict_items([('Max', 'blue'), ('Lilly', 'brown'), ('Barney', 'blue'), ('Larney', 'brown'), ('Ted', 'purple')])\n",
      "Max has blue eyes\n",
      "Lilly has brown eyes\n",
      "Barney has blue eyes\n",
      "Larney has brown eyes\n",
      "Ted has purple eyes\n"
     ]
    }
   ],
   "source": [
    "# use the dict below\n",
    "\n",
    "people = {\n",
    "    'Max': 'blue',\n",
    "    'Lilly': 'brown',\n",
    "    'Barney': 'blue',\n",
    "    'Larney': 'brown',\n",
    "    'Ted': 'purple'\n",
    "}\n",
    "\n",
    "print(people.items())\n",
    "for key, value in people.items():\n",
    "    print(key, 'has', value, 'eyes')\n",
    "    \n"
   ]
  },
  {
   "cell_type": "code",
   "execution_count": 81,
   "metadata": {},
   "outputs": [
    {
     "name": "stdout",
     "output_type": "stream",
     "text": [
      "Max has blue eyes\n",
      "Lilly has brown eyes\n",
      "Barney has blue eyes\n",
      "Larney has brown eyes\n",
      "Ted has purple eyes\n"
     ]
    }
   ],
   "source": [
    "def eye(color):\n",
    "    for name, eye in people.items():\n",
    "        print(f'{name} has {eye} eyes')\n",
    "eye(people)\n",
    "    "
   ]
  },
  {
   "cell_type": "markdown",
   "metadata": {},
   "source": [
    "##### sorted()"
   ]
  },
  {
   "cell_type": "code",
   "execution_count": 79,
   "metadata": {},
   "outputs": [
    {
     "name": "stdout",
     "output_type": "stream",
     "text": [
      "['Barney', 'Larney', 'Lilly', 'Max', 'Ted']\n"
     ]
    }
   ],
   "source": [
    "# sorts variables in order\n",
    "# sorted(dict.values()) or dict.keys() or dict.items()\n",
    "\n",
    "people = {\n",
    "    'Max': 'blue',\n",
    "    'Lilly': 'brown',\n",
    "    'Barney': 'blue',\n",
    "    'Larney': 'brown',\n",
    "    'Ted': 'purple'\n",
    "}\n",
    "\n",
    "print(\n",
    "    sorted(people)\n",
    ")\n"
   ]
  },
  {
   "cell_type": "markdown",
   "metadata": {},
   "source": [
    "##### List with Dictionaries"
   ]
  },
  {
   "cell_type": "code",
   "execution_count": 86,
   "metadata": {},
   "outputs": [
    {
     "name": "stdout",
     "output_type": "stream",
     "text": [
      "['Shayne', 'Andre', 'Ola', 'Katina', {'random_guy': 'Steve', 'another_guy': 'Travis'}]\n",
      "Steve\n"
     ]
    }
   ],
   "source": [
    "names = ['Shayne', 'Andre', 'Ola', 'Katina', {'random_guy':'Steve', 'another_guy': 'Travis'}]\n",
    "print(names)\n",
    "\n",
    "print(names[4]['random_guy'])"
   ]
  },
  {
   "cell_type": "markdown",
   "metadata": {},
   "source": [
    "##### Dictionaries with Lists"
   ]
  },
  {
   "cell_type": "code",
   "execution_count": 101,
   "metadata": {},
   "outputs": [
    {
     "name": "stdout",
     "output_type": "stream",
     "text": [
      "==========================\n",
      "Item name: Item A\n",
      "Item price: 2.99\n",
      "Item desc: A jolly Good Item\n",
      "==========================\n",
      "==========================\n",
      "Item name: Item B\n",
      "Item price: 10.99\n",
      "Item desc: A waste of money\n",
      "==========================\n",
      "==========================\n",
      "Item name: Item C\n",
      "Item price: 0.99\n",
      "Item desc: Too cheap to use\n",
      "==========================\n",
      "[{'name': 'Item A', 'price': 2.99, 'desc': 'A jolly Good Item'}, {'name': 'Item B', 'price': 10.99, 'desc': 'A waste of money'}, {'name': 'Item C', 'price': 0.99, 'desc': 'Too cheap to use'}]\n"
     ]
    }
   ],
   "source": [
    "all_items=[\n",
    "    {\"name\":\"Item A\", \"price\":2.99, \"desc\":\"A jolly Good Item\"},\n",
    "    {\"name\":\"Item B\", \"price\":10.99, \"desc\":\"A waste of money\"},\n",
    "    {\"name\":\"Item C\", \"price\":0.99, \"desc\":\"Too cheap to use\"}\n",
    "]\n",
    "\n",
    "for item in all_items:\n",
    "    print(\"==========================\")\n",
    "    print(f\"Item name: {item['name']}\")\n",
    "    print(f\"Item price: {item['price']}\")\n",
    "    print(f\"Item desc: {item['desc']}\")    \n",
    "    print(\"==========================\")\n",
    "\n",
    "\n",
    "print(all_items)"
   ]
  },
  {
   "cell_type": "markdown",
   "metadata": {},
   "source": [
    "##### Dictionaries with Dictionaries"
   ]
  },
  {
   "cell_type": "code",
   "execution_count": 102,
   "metadata": {},
   "outputs": [
    {
     "name": "stdout",
     "output_type": "stream",
     "text": [
      "Jody Sheffield\n",
      "True\n",
      "{'name': 'Firebird', 'year': 1968}\n",
      "impala\n",
      "I am Disgusted\n",
      "Jody Sheffield thinks mint is False\n",
      "1968 1961 1972\n",
      "1968\n",
      "1961\n",
      "1972\n",
      "Jody likes praline\n",
      "Jody likes tonight_dough\n",
      "Jody does not like mint\n",
      "I am tired\n",
      "I am confused\n",
      "I am Disgusted\n",
      "I Am a genious\n",
      "I am an idoit\n",
      "Jody has a 1968 Firebird \n",
      "Jody has a 1961 impala \n",
      "Jody has a 1972 camero \n",
      "Jody has a 1968 Firebird\n",
      "Jody has a 1961 impala\n",
      "Jody has a 1972 camero\n"
     ]
    }
   ],
   "source": [
    "# to get values, must traverse through keys\n",
    "d5={\n",
    "    \"first_name\":\"Jody\",\n",
    "    \"last_name\": \"Sheffield\",\n",
    "    \"ice_cream\":{\n",
    "        \"praline\":True,\n",
    "        \"tonight_dough\":True,\n",
    "        \"mint\":False\n",
    "    },\n",
    "    \"cars\":[\n",
    "            {\n",
    "                \"name\": \"Firebird\",\n",
    "                \"year\": 1968\n",
    "            },\n",
    "            {\n",
    "                \"name\":\"impala\",\n",
    "                \"year\": 1961\n",
    "            },\n",
    "            {\n",
    "                \"name\":\"camero\",\n",
    "                \"year\": 1972\n",
    "            }        \n",
    "        ],\n",
    "    \"emotions\": ['I am tired', \"I am confused\", \"I am Disgusted\", \"I Am a genious\", \"I am an idoit\"]\n",
    "}\n",
    "# Jody sheffield thinks mint is False\n",
    "\n",
    "print(f'{d5[\"first_name\"]} {d5[\"last_name\"]}')\n",
    "print(d5['ice_cream']['praline'])\n",
    "print(d5['cars'][0])\n",
    "print(d5['cars'][1][\"name\"])\n",
    "print(d5['emotions'][2])\n",
    "print(f'{d5[\"first_name\"]} {d5[\"last_name\"]} thinks mint is {d5[\"ice_cream\"][\"mint\"]}')\n",
    "\n",
    "print(d5['cars'][0][\"year\"],d5['cars'][1][\"year\"],d5['cars'][2][\"year\"])\n",
    "\n",
    "for car in d5['cars']:\n",
    "    print(car['year'])\n",
    "    \n",
    "for flavor, likes in d5[\"ice_cream\"].items():\n",
    "    if likes:\n",
    "        print(f\"Jody likes {flavor}\")\n",
    "    else:\n",
    "        print(f\"Jody does not like {flavor}\")\n",
    "        \n",
    "for emotion in d5[\"emotions\"]:\n",
    "    print(emotion)\n",
    "\n",
    "for element in d5['cars']:\n",
    "    print(f'Jody has a ', end='')\n",
    "    for value in list(element.values())[::-1]:\n",
    "        print(value, end= \" \")\n",
    "    print()\n",
    "#     for key, value in element.items():\n",
    "#         print(f'Jody has a {element[key]} {elementvalue}')\n",
    "\n",
    "for element in d5['cars']:\n",
    "    print(f\"Jody has a {element['year']} {element['name']}\")"
   ]
  },
  {
   "cell_type": "markdown",
   "metadata": {},
   "source": [
    "## Dictionaries vs. Lists (over time) Example of RUNTIME\n",
    "### When inputting values in a Dictionary vs List"
   ]
  },
  {
   "cell_type": "code",
   "execution_count": 103,
   "metadata": {},
   "outputs": [],
   "source": [
    "import time\n",
    "\n",
    "\n",
    "# generate fake dictionary\n",
    "d = {}\n",
    "\n",
    "for i in range(10000000):\n",
    "    d[i] = 'value'\n",
    "    \n",
    "\n",
    "# generate fake list\n",
    "big_list = [x for x in range(10000000)]"
   ]
  },
  {
   "cell_type": "code",
   "execution_count": null,
   "metadata": {},
   "outputs": [],
   "source": [
    "# tracking time for dictionary\n",
    "start_time = time.time()\n",
    "\n",
    "print(d[9999999])\n",
    "\n",
    "end_time = time.time() - start_time\n",
    "\n",
    "print('Elapsed time for dictionary: {}'.format(end_time))\n",
    "\n",
    "\n",
    "# tracking time for list\n",
    "start_time = time.time()\n",
    "\n",
    "for i in range(len(big_list)):\n",
    "    if i == 9999999:\n",
    "        print(i)\n",
    "\n",
    "end_time = time.time() - start_time\n",
    "\n",
    "print('Elapsed time for list: {}'.format(end_time))"
   ]
  },
  {
   "cell_type": "markdown",
   "metadata": {},
   "source": [
    "## Exercise #3 - Write a Function that asks someone's name and address, and then stores that into a dictionary, and continues to do so until they choose to 'quit'. Once they quit, the program should print all names and addresses. <br>\n",
    "<p>\n",
    "<b>Proper steps:</b><br>\n",
    "step 1: write a function that takes in information and stores it in a dictionary<br>\n",
    "step 2: define an empty dictionary to work with<br>\n",
    "step 3: create our loop, which asks the user for information until they quit<br>\n",
    "step 4: ask for the information, and store it into variables<br>\n",
    "step 5: check if the user types quit<br>\n",
    "step 5a: print out all information<br>\n",
    "step 5b: break out of the loop<br>\n",
    "step 6: if they didn't quit, add the information to the dictionary<br>\n",
    "step 7: invoke the function by calling it\n",
    "</p>"
   ]
  },
  {
   "cell_type": "code",
   "execution_count": null,
   "metadata": {},
   "outputs": [],
   "source": [
    "from IPython.display import clear_output\n"
   ]
  },
  {
   "cell_type": "code",
   "execution_count": 227,
   "metadata": {},
   "outputs": [],
   "source": [
    "def(info):\n",
    "list = {}\n",
    "    while True:\n",
    "        name= input('What is your name? ')\n",
    "        age= input('What is your age? ')\n",
    "        \n",
    "    if name == \"quit\" or address == \"quit\"\n",
    "    \n",
    "    \n",
    "    list[name]=[age]\n",
    "   \n",
    "\n"
   ]
  },
  {
   "cell_type": "code",
   "execution_count": 235,
   "metadata": {},
   "outputs": [
    {
     "name": "stdout",
     "output_type": "stream",
     "text": [
      "What is your name? ASD\n",
      "What is your age? 123\n",
      "What is your name? asda\n",
      "What is your age? 123\n",
      "What is your name? quit\n",
      "{'ASD': ['123'], 'asda': ['123']}\n"
     ]
    },
    {
     "data": {
      "text/plain": [
       "{'ASD': ['123'], 'asda': ['123']}"
      ]
     },
     "execution_count": 235,
     "metadata": {},
     "output_type": "execute_result"
    }
   ],
   "source": [
    "def address():\n",
    "    list={}\n",
    "    while True:\n",
    "        name= input('What is your name? ')\n",
    "        if name == \"quit\":\n",
    "            print(list)\n",
    "            break;\n",
    "        age= input('What is your age? ')\n",
    "        if age == \"quit\":\n",
    "            print(list)\n",
    "            break;\n",
    "        list[name]=[age]\n",
    "    return list\n",
    "\n",
    "address()"
   ]
  },
  {
   "cell_type": "markdown",
   "metadata": {},
   "source": [
    "## Set <br>\n",
    "<p>A Set is an unordered collection data type that is iterable (loop), mutable, and has no duplicate elements.<br>Major advantage is that it is highly optimized in checking if something is in the set, as opposed to checking if something is in a list.</p>"
   ]
  },
  {
   "cell_type": "markdown",
   "metadata": {},
   "source": [
    "##### Declaring"
   ]
  },
  {
   "cell_type": "code",
   "execution_count": null,
   "metadata": {},
   "outputs": [],
   "source": [
    "# set() or {}\n",
    "# no order {3, 2, 1} outputs as {1, 2, 3}\n"
   ]
  },
  {
   "cell_type": "markdown",
   "metadata": {},
   "source": [
    "##### .add()"
   ]
  },
  {
   "cell_type": "code",
   "execution_count": null,
   "metadata": {},
   "outputs": [],
   "source": [
    "# set.add()\n"
   ]
  },
  {
   "cell_type": "markdown",
   "metadata": {},
   "source": [
    "##### .remove()"
   ]
  },
  {
   "cell_type": "code",
   "execution_count": null,
   "metadata": {},
   "outputs": [],
   "source": [
    "# removes by value\n",
    "# set.remove()\n",
    "# nums.remove(56)\n",
    "\n"
   ]
  },
  {
   "cell_type": "markdown",
   "metadata": {},
   "source": [
    "##### .union() "
   ]
  },
  {
   "cell_type": "code",
   "execution_count": 266,
   "metadata": {},
   "outputs": [
    {
     "data": {
      "text/plain": [
       "{1, 2, 3, 4, 5, 6}"
      ]
     },
     "execution_count": 266,
     "metadata": {},
     "output_type": "execute_result"
    }
   ],
   "source": [
    "# Returns a union of two sets, can also use '|' or set.union(set)\n",
    "# joins all numbers, gets rid of duplicates\n",
    "\n",
    "set1 = {1,2,3,4}\n",
    "set2 = {3,4,5,6}\n",
    "\n",
    "set1.union(set2)"
   ]
  },
  {
   "cell_type": "code",
   "execution_count": 250,
   "metadata": {},
   "outputs": [
    {
     "data": {
      "text/plain": [
       "{1, 2, 3, 4, 5, 6}"
      ]
     },
     "execution_count": 250,
     "metadata": {},
     "output_type": "execute_result"
    }
   ],
   "source": [
    "set2.union(set1)"
   ]
  },
  {
   "cell_type": "code",
   "execution_count": 253,
   "metadata": {},
   "outputs": [
    {
     "data": {
      "text/plain": [
       "{1, 2, 3, 4, 5, 6}"
      ]
     },
     "execution_count": 253,
     "metadata": {},
     "output_type": "execute_result"
    }
   ],
   "source": [
    "set2 | set1"
   ]
  },
  {
   "cell_type": "markdown",
   "metadata": {},
   "source": [
    "##### .intersection()"
   ]
  },
  {
   "cell_type": "code",
   "execution_count": 254,
   "metadata": {},
   "outputs": [
    {
     "data": {
      "text/plain": [
       "{3, 4}"
      ]
     },
     "execution_count": 254,
     "metadata": {},
     "output_type": "execute_result"
    }
   ],
   "source": [
    "# Returns an intersection of two sets, can also use '&'\n",
    "# only takes similar elements from both sets\n",
    "\n",
    "set1.intersection(set2)"
   ]
  },
  {
   "cell_type": "markdown",
   "metadata": {},
   "source": [
    "##### .difference()"
   ]
  },
  {
   "cell_type": "code",
   "execution_count": 267,
   "metadata": {},
   "outputs": [
    {
     "name": "stdout",
     "output_type": "stream",
     "text": [
      "{5, 6}\n",
      "{1, 2}\n"
     ]
    }
   ],
   "source": [
    "# Returns a set containing all the elements of invoking set that are not in the second set, can also use '-'\n",
    "# only takes values from the first set that are not in the second set\n",
    "# order matters\n",
    "\n",
    "print(set2.difference(set1))\n",
    "print(set1.difference(set2))"
   ]
  },
  {
   "cell_type": "markdown",
   "metadata": {},
   "source": [
    "##### .clear()"
   ]
  },
  {
   "cell_type": "code",
   "execution_count": 263,
   "metadata": {},
   "outputs": [
    {
     "name": "stdout",
     "output_type": "stream",
     "text": [
      "set()\n"
     ]
    }
   ],
   "source": [
    "# Empties the whole set\n",
    "# set.clear()\n",
    "\n",
    "set1.clear()\n",
    "print(set1)"
   ]
  },
  {
   "cell_type": "markdown",
   "metadata": {},
   "source": [
    "##### Frozenset <br>\n",
    "<p>Frozen sets are immutable objects that only support methods and operators that produce a result without affecting the frozen set or sets to which they are applied.</p><br><b>Unique & Immutable</b>"
   ]
  },
  {
   "cell_type": "code",
   "execution_count": 264,
   "metadata": {},
   "outputs": [
    {
     "ename": "SyntaxError",
     "evalue": "invalid syntax (1177047937.py, line 3)",
     "output_type": "error",
     "traceback": [
      "\u001b[1;36m  Input \u001b[1;32mIn [264]\u001b[1;36m\u001b[0m\n\u001b[1;33m    set3{1,2,3,4,5}\u001b[0m\n\u001b[1;37m        ^\u001b[0m\n\u001b[1;31mSyntaxError\u001b[0m\u001b[1;31m:\u001b[0m invalid syntax\n"
     ]
    }
   ],
   "source": [
    "# frozenset([])\n",
    "\n",
    "set3{1,2,3,4,5}\n",
    "\n",
    "s_frozen=frozenset(set3)\n"
   ]
  },
  {
   "cell_type": "markdown",
   "metadata": {},
   "source": [
    "## Modules"
   ]
  },
  {
   "cell_type": "markdown",
   "metadata": {},
   "source": [
    "##### Importing Entire Modules"
   ]
  },
  {
   "cell_type": "code",
   "execution_count": null,
   "metadata": {},
   "outputs": [],
   "source": [
    "# import or from 'xxx' import *\n",
    "# import math\n",
    "\n",
    "my_list=[1,1,1,3,2,3,2,4,5,6,2,5,3,3,2,2,]\n",
    "my_counts={}\n",
    "\n"
   ]
  },
  {
   "cell_type": "code",
   "execution_count": 238,
   "metadata": {},
   "outputs": [
    {
     "name": "stdout",
     "output_type": "stream",
     "text": [
      "Counter({2: 5, 3: 4, 1: 3, 5: 2, 4: 1, 6: 1})\n"
     ]
    }
   ],
   "source": [
    "from collections import Counter\n",
    "my_list=[1,1,1,3,2,3,2,4,5,6,2,5,3,3,2,2,]\n",
    "print(Counter(my_list))\n"
   ]
  },
  {
   "cell_type": "markdown",
   "metadata": {},
   "source": [
    "##### Importing Methods Only"
   ]
  },
  {
   "cell_type": "code",
   "execution_count": null,
   "metadata": {},
   "outputs": [],
   "source": [
    "# from 'xxx' import 'xxx'\n",
    "# from math import floor\n",
    "\n",
    "\n"
   ]
  },
  {
   "cell_type": "markdown",
   "metadata": {},
   "source": [
    "##### Using the 'as' Keyword"
   ]
  },
  {
   "cell_type": "code",
   "execution_count": null,
   "metadata": {},
   "outputs": [],
   "source": [
    "# from 'xxx' import 'xxx' as 'xxx' or import 'xxx' as 'xxx'\n",
    "# from math import floor as f\n"
   ]
  },
  {
   "cell_type": "markdown",
   "metadata": {},
   "source": [
    "##### Creating a Module"
   ]
  },
  {
   "cell_type": "code",
   "execution_count": 241,
   "metadata": {},
   "outputs": [
    {
     "name": "stdout",
     "output_type": "stream",
     "text": [
      "hello\n"
     ]
    }
   ],
   "source": [
    "import mymod\n",
    "mymod.say_hello()\n"
   ]
  },
  {
   "cell_type": "code",
   "execution_count": 242,
   "metadata": {},
   "outputs": [
    {
     "name": "stdout",
     "output_type": "stream",
     "text": [
      "hello\n"
     ]
    }
   ],
   "source": [
    "from mymod import say_hello\n",
    "say_hello()"
   ]
  },
  {
   "cell_type": "code",
   "execution_count": 247,
   "metadata": {},
   "outputs": [
    {
     "name": "stdout",
     "output_type": "stream",
     "text": [
      "goodbye\n"
     ]
    }
   ],
   "source": [
    "from mymod import *\n",
    "\n",
    "say_goodbye()"
   ]
  },
  {
   "cell_type": "markdown",
   "metadata": {},
   "source": [
    "# Exercises"
   ]
  },
  {
   "cell_type": "markdown",
   "metadata": {},
   "source": [
    "### 1) Build a Shopping Cart <br>\n",
    "<p><b>You can use either lists or dictionaries. The program should have the following capabilities:</b><br><br>\n",
    "1) Takes in input <br>\n",
    "2) Stores user input into a dictionary or list <br>\n",
    "3) The User can add or delete items <br>\n",
    "4) The User can see current shopping list <br>\n",
    "5) The program Loops until user 'quits' <br>\n",
    "6) Upon quiting the program, print out all items in the user's list <br>\n",
    "</p>"
   ]
  },
  {
   "cell_type": "code",
   "execution_count": 36,
   "metadata": {},
   "outputs": [
    {
     "name": "stdout",
     "output_type": "stream",
     "text": [
      "Please type: Show/Add/Delete/Quit: Add\n",
      "Add item to cart: bread\n",
      "Please type: Show/Add/Delete/Quit: apple\n",
      "Please type: Show/Add/Delete/Quit: show\n",
      "Please type: Show/Add/Delete/Quit: Show\n",
      "['bread']\n",
      "Please type: Show/Add/Delete/Quit: Add\n",
      "Add item to cart: apples\n",
      "Please type: Show/Add/Delete/Quit: Show\n",
      "['bread', 'apples']\n",
      "Please type: Show/Add/Delete/Quit: Quit\n",
      "['bread', 'apples']\n"
     ]
    }
   ],
   "source": [
    "from IPython.display import clear_output\n",
    "\n",
    "# Ask the user four bits of input: Do you want to : Show/Add/Delete or Quit?\n",
    "\n",
    "shopping_cart =[]\n",
    "while True:\n",
    "    user_input = input('Please type: Show/Add/Remove/Quit: ')\n",
    "    if user_input == 'Add':\n",
    "        item = input(\"Add item to cart: \")\n",
    "        shopping_cart.append(item)\n",
    "    elif user_input == \"Quit\":\n",
    "        break\n",
    "    elif user_input == \"Show\":\n",
    "        print(shopping_cart)\n",
    "    elif user_input == \"Remove\":\n",
    "        removed = input(\"What would you like to remove? \")\n",
    "        shopping_cart.remove(removed)\n",
    "\n",
    "print(shopping_cart)\n",
    "        \n",
    "        \n"
   ]
  },
  {
   "cell_type": "markdown",
   "metadata": {},
   "source": [
    "### 2) Create a Module in VS Code and Import It into jupyter notebook <br>\n",
    "<p><b>Module should have the following capabilities:</b><br><br>\n",
    "1) Has a function to calculate the square footage of a house <br>\n",
    "    <b>Reminder of Formula: Length X Width == Area<br>\n",
    "        <hr>\n",
    "2) Has a function to calculate the circumference of a circle <br><br>\n",
    "<b>Program in Jupyter Notebook should take in user input and use imported functions to calculate a circle's circumference or a houses square footage</b>\n",
    "</p>"
   ]
  },
  {
   "cell_type": "code",
   "execution_count": null,
   "metadata": {},
   "outputs": [],
   "source": []
  },
  {
   "cell_type": "code",
   "execution_count": 33,
   "metadata": {},
   "outputs": [
    {
     "ename": "SyntaxError",
     "evalue": "invalid syntax (2333379761.py, line 30)",
     "output_type": "error",
     "traceback": [
      "\u001b[1;36m  Input \u001b[1;32mIn [33]\u001b[1;36m\u001b[0m\n\u001b[1;33m    elif wrong == \"location\"\u001b[0m\n\u001b[1;37m                            ^\u001b[0m\n\u001b[1;31mSyntaxError\u001b[0m\u001b[1;31m:\u001b[0m invalid syntax\n"
     ]
    }
   ],
   "source": [
    "def get_name():\n",
    "    name = input(\"what's your name?\")\n",
    "    return name\n",
    "    \n",
    "def last_job():\n",
    "    job=input(\"previous job\")\n",
    "    return job\n",
    "\n",
    "def get_location():\n",
    "    location=input(\"preferred location\")\n",
    "    return location\n",
    "\n",
    "while True:\n",
    "    response=input(\"Do you want to apply to company?\")\n",
    "    if response[0] != \"y\":\n",
    "        break\n",
    "    name=get_name()\n",
    "    job=last_job()\n",
    "    local = get_location()\n",
    "    print(f'name: {name}\\njob:{job}\\nlocation:{location}')\n",
    "    response=input('Is above info correct?')\n",
    "    if response[0] != \"y\":\n",
    "        print('Thanks for applying')\n",
    "        break\n",
    "    wrong=input('What field was wrong? name/job/location?')\n",
    "    if wrong==\"name\":\n",
    "        name==get_name()\n",
    "    elif wrong==\"job\":\n",
    "        name=last_job()\n",
    "    elif wrong == \"location\"\n",
    "        location=\"get_location\"\n",
    "    pring(\"Thanks for applying\")\n",
    "    break"
   ]
  },
  {
   "cell_type": "code",
   "execution_count": null,
   "metadata": {},
   "outputs": [],
   "source": []
  }
 ],
 "metadata": {
  "kernelspec": {
   "display_name": "Python 3 (ipykernel)",
   "language": "python",
   "name": "python3"
  },
  "language_info": {
   "codemirror_mode": {
    "name": "ipython",
    "version": 3
   },
   "file_extension": ".py",
   "mimetype": "text/x-python",
   "name": "python",
   "nbconvert_exporter": "python",
   "pygments_lexer": "ipython3",
   "version": "3.9.12"
  }
 },
 "nbformat": 4,
 "nbformat_minor": 2
}
